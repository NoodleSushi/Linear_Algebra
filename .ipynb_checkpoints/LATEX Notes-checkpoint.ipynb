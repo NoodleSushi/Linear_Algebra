{
 "cells": [
  {
   "cell_type": "markdown",
   "id": "a3177c3a-9dd4-4e8a-b723-e58182c13c23",
   "metadata": {},
   "source": [
    "<table>\n",
    "    <tr>\n",
    "        <th>Symbol</th>\n",
    "        <th>Equivalent</th>\n",
    "    </tr>\n",
    "    <tr>\n",
    "        <td>\\cdots</td>\n",
    "        <td>$\\cdots$</td>\n",
    "    </tr>\n",
    "</table>"
   ]
  },
  {
   "cell_type": "code",
   "execution_count": null,
   "id": "c25c9362-d565-4276-a118-a41ae9146d46",
   "metadata": {},
   "outputs": [],
   "source": []
  }
 ],
 "metadata": {
  "kernelspec": {
   "display_name": "Python 3 (ipykernel)",
   "language": "python",
   "name": "python3"
  },
  "language_info": {
   "codemirror_mode": {
    "name": "ipython",
    "version": 3
   },
   "file_extension": ".py",
   "mimetype": "text/x-python",
   "name": "python",
   "nbconvert_exporter": "python",
   "pygments_lexer": "ipython3",
   "version": "3.11.4"
  }
 },
 "nbformat": 4,
 "nbformat_minor": 5
}
