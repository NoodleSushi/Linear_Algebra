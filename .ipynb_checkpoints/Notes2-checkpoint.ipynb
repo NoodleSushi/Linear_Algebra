{
 "cells": [
  {
   "cell_type": "markdown",
   "id": "383ca63d-d00d-4baa-a18c-ab5c8be3f642",
   "metadata": {},
   "source": [
    "- $\\textbf{u} = [1,2,3]^{T}$\n",
    "- $\\textbf{v} = [5,6,2]^{T}$"
   ]
  },
  {
   "cell_type": "code",
   "execution_count": 69,
   "id": "d9298bcc-de28-4fc5-b320-4867c2485a4a",
   "metadata": {},
   "outputs": [
    {
     "name": "stdout",
     "output_type": "stream",
     "text": [
      "u:         [1 2 3]\n",
      "v:         [5 6 2]\n"
     ]
    }
   ],
   "source": [
    "import numpy as np\n",
    "\n",
    "def pr(str, x = \"\"):\n",
    "    print((str + \":\").ljust(10, \" \"), x)\n",
    "\n",
    "u = np.array([1, 2, 3])\n",
    "v = np.array([5, 6, 2])\n",
    "pr(\"u\", u)\n",
    "pr(\"v\", v)"
   ]
  },
  {
   "cell_type": "markdown",
   "id": "9d0d8767-25fa-4948-bf1f-ac7f321edf21",
   "metadata": {},
   "source": [
    "## Vector Addition\n",
    "---\n",
    "- $\\textbf{u} = [1,2,3]^{T}$\n",
    "- $\\textbf{v} = [5,6,2]^{T}$\n",
    "\\begin{align}\n",
    "    \\textbf{u}+\\textbf{v} &= \\begin{bmatrix}\n",
    "        \\textbf{u}_{1}+\\textbf{v}_{1} \\\\\n",
    "        \\textbf{u}_{2}+\\textbf{v}_{2} \\\\\n",
    "        \\textbf{u}_{3}+\\textbf{v}_{3}\n",
    "    \\end{bmatrix}= \\begin{bmatrix}\n",
    "        1+5 \\\\\n",
    "        2+6 \\\\\n",
    "        3+2\n",
    "    \\end{bmatrix}= \\begin{bmatrix}\n",
    "        6 \\\\\n",
    "        8 \\\\\n",
    "        5\n",
    "    \\end{bmatrix}\n",
    "\\end{align}"
   ]
  },
  {
   "cell_type": "code",
   "execution_count": 64,
   "id": "d181bccc-94c1-4928-a089-7b51dd6e7041",
   "metadata": {},
   "outputs": [
    {
     "name": "stdout",
     "output_type": "stream",
     "text": [
      "u+v:       [6 8 5]\n"
     ]
    }
   ],
   "source": [
    "pr(\"u+v\", u + v)"
   ]
  },
  {
   "cell_type": "markdown",
   "id": "1e224b12-ea8c-49ff-9ef8-593f6ff238d0",
   "metadata": {},
   "source": [
    "## Scalar Multiplication\n",
    "---\n",
    "- $\\textbf{u} = [1,2,3]^{T}$\n",
    "- $\\textbf{k} = 3$\n",
    "\n",
    "\\begin{align}\n",
    "    k \\cdotp \\textbf{u} = 3 \\cdotp \\textbf{u} &= \\begin{bmatrix}\n",
    "       3 \\cdotp 1 \\\\\n",
    "       3 \\cdotp 2 \\\\\n",
    "       3 \\cdotp 3\n",
    "     \\end{bmatrix}= \\begin{bmatrix}\n",
    "       3 \\\\\n",
    "       6 \\\\\n",
    "       9\n",
    "     \\end{bmatrix}\n",
    "\\end{align}"
   ]
  },
  {
   "cell_type": "code",
   "execution_count": 68,
   "id": "6d3d0f55-04b6-4c8e-ac36-21ad1935ef94",
   "metadata": {},
   "outputs": [
    {
     "name": "stdout",
     "output_type": "stream",
     "text": [
      "k:         3\n",
      "k*u:       [3 6 9]\n"
     ]
    }
   ],
   "source": [
    "k = 3\n",
    "pr(\"k\", k)\n",
    "pr(\"k*u\", k*u)"
   ]
  },
  {
   "cell_type": "markdown",
   "id": "7f4e5f65-7db2-4671-a5fd-43899df0bc63",
   "metadata": {},
   "source": [
    "## Dot Products\n",
    "---\n",
    "- $\\textbf{u} = [1,2,3]^{T}$\n",
    "- $\\textbf{v} = [5,6,2]^{T}$\n",
    "\n",
    "\\begin{align*}\r\n",
    "    \\mathbf{u} \\cdot \\mathbf{v} &= \\mathbf{u}_1 \\cdot \\mathbf{v}_1 + \\mathbf{u}_2 \\cdot \\mathbf{v}_2 + \\mathbf{u}_3 \\cdot \\mathbf{v}_3\\\\\r\n",
    "    &= 1 \\cdot 5 + 2 \\cdot 6 + 3 \\cdot 2 \\\\\r\n",
    "    &= 5 + 12 + 6 \\\\\r\n",
    "    &= 23\r\n",
    "\\end{align*}n*}"
   ]
  },
  {
   "cell_type": "code",
   "execution_count": 72,
   "id": "52202120-48f4-4c48-b0de-c530c075a179",
   "metadata": {},
   "outputs": [
    {
     "name": "stdout",
     "output_type": "stream",
     "text": [
      "u.v:       23\n"
     ]
    }
   ],
   "source": [
    "pr(\"u.v\", u.dot(v))"
   ]
  },
  {
   "cell_type": "code",
   "execution_count": 56,
   "id": "3f5d49c6-fe40-415a-a00d-62797393bdc4",
   "metadata": {},
   "outputs": [
    {
     "name": "stdout",
     "output_type": "stream",
     "text": [
      "||u||:               3.7416573867739413\n",
      "u/||u||:             [0.26726124 0.53452248 0.80178373]\n",
      "|| u/||u|| ||:       1.0\n"
     ]
    }
   ],
   "source": [
    "assert np.linalg.norm(u) == np.sqrt(u.dot(u))\n",
    "norm = lambda x: np.linalg.norm(x)\n",
    "ulen = norm(u)\n",
    "pr(\"||u||\", norm(u))\n",
    "pr(\"u/||u||\", u/norm(u))\n",
    "pr(\"|| u/||u|| ||\", norm(u/norm(u)))"
   ]
  },
  {
   "cell_type": "code",
   "execution_count": 58,
   "id": "4324d330-7485-4435-99ae-ebc1f9b33813",
   "metadata": {},
   "outputs": [
    {
     "name": "stdout",
     "output_type": "stream",
     "text": [
      "d(u,v):              5.744562646538029\n",
      "angle:               0.7624425757515654\n",
      "proj(u,v):           [1.76923077 2.12307692 0.70769231]\n"
     ]
    }
   ],
   "source": [
    "pr(\"d(u,v)\", norm(u-v))\n",
    "pr(\"angle\", u.dot(v) / (norm(u)*norm(v)))\n",
    "pr(\"proj(u,v)\", u.dot(v)*v / (norm(v)**2))"
   ]
  },
  {
   "cell_type": "code",
   "execution_count": null,
   "id": "3f27281d-98ec-4415-b622-0d1615006933",
   "metadata": {},
   "outputs": [],
   "source": []
  }
 ],
 "metadata": {
  "kernelspec": {
   "display_name": "Python 3 (ipykernel)",
   "language": "python",
   "name": "python3"
  },
  "language_info": {
   "codemirror_mode": {
    "name": "ipython",
    "version": 3
   },
   "file_extension": ".py",
   "mimetype": "text/x-python",
   "name": "python",
   "nbconvert_exporter": "python",
   "pygments_lexer": "ipython3",
   "version": "3.11.4"
  }
 },
 "nbformat": 4,
 "nbformat_minor": 5
}
