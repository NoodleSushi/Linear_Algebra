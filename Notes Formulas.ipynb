{
 "cells": [
  {
   "cell_type": "markdown",
   "id": "e3bb0ad8-433d-4a22-bf12-93abcb947d1d",
   "metadata": {},
   "source": [
    "# Chapter 1"
   ]
  },
  {
   "cell_type": "markdown",
   "id": "861910c2-f74d-4741-9bec-8e3e7d853ee6",
   "metadata": {},
   "source": [
    "## Vector Addition\n",
    "- $u, v \\in R^{n}$\n",
    "\n",
    "\\begin{align}\n",
    "    u+v &= \\begin{bmatrix}\n",
    "        u_1 + v_1 \\\\\n",
    "        u_2 + v_2 \\\\\n",
    "        \\vdots \\\\\n",
    "        u_n + v_n\n",
    "    \\end{bmatrix}\n",
    "\\end{align}"
   ]
  },
  {
   "cell_type": "markdown",
   "id": "0202fbc8-048c-4ea7-820a-fa90e86b8f3c",
   "metadata": {},
   "source": [
    "## Scalar Multiplication\n",
    "- $k \\in \\textbf{R}$\n",
    "\\begin{align}\n",
    "    ku &= \\begin{bmatrix}\n",
    "        k \\cdot u_1 \\\\\n",
    "        k \\cdot u_2 \\\\\n",
    "        \\vdots \\\\\n",
    "        k \\cdot u_n\n",
    "    \\end{bmatrix}\n",
    "\\end{align}"
   ]
  },
  {
   "cell_type": "markdown",
   "id": "8272e927-fabe-417c-973c-c844ec8cdacc",
   "metadata": {},
   "source": [
    "## Dot Product\n",
    "\\begin{align}\n",
    "    u \\cdot v &= u_1 \\cdot v_1 + u_2 \\cdot v_2 + \\cdots + u_n \\cdot v_n\n",
    "\\end{align}\n",
    "\\begin{gather}\n",
    "    u \\perp v \\iff u \\cdot v = 0\n",
    "\\end{gather}"
   ]
  },
  {
   "cell_type": "markdown",
   "id": "85caf26d-9dac-427e-b3e3-e59ce785a52d",
   "metadata": {},
   "source": [
    "## Vector Norm\n",
    "\\begin{align}\n",
    "    \\lVert u \\rVert &= \\sqrt{u \\cdot u} \\\\\n",
    "    &= \\sqrt{u^2_1 + u^2_2 + \\ldots + u^2_n} \\\\\n",
    "    \\\\\n",
    "    \\lVert u \\rVert &\\geq 0 \\\\\n",
    "    \\lVert u \\rVert = 0 &\\iff u = 0 \\\\\n",
    "    \\hat{u'} &\\iff \\lVert u \\rVert = 1\n",
    "\\end{align}"
   ]
  },
  {
   "cell_type": "markdown",
   "id": "4f9ee2a2-9df1-47d2-ab9d-92505436b4ab",
   "metadata": {},
   "source": [
    "### Inequalities\n",
    "<table>\n",
    "    <tr>\n",
    "        <th>Name</th>\n",
    "        <th>Formula</th>\n",
    "    </tr>\n",
    "    <tr>\n",
    "        <td><b>The Scharz's Inequality</b></td>\n",
    "        <td>\n",
    "            \\begin{align}\n",
    "                \\lvert u \\cdot v \\rvert \\leq \\lVert u \\rVert \\lVert v \\rVert\n",
    "            \\end{align}\n",
    "        </td>\n",
    "    </tr>\n",
    "    <tr>\n",
    "        <td><b>The Minowski's Inequality</b></td>\n",
    "        <td>\n",
    "            \\begin{align}\n",
    "                \\lVert u + v \\rVert \\leq \\lVert u \\rVert \\lVert v \\rVert\n",
    "            \\end{align}\n",
    "        </td>\n",
    "    </tr>\n",
    "</table>"
   ]
  },
  {
   "cell_type": "markdown",
   "id": "08eb86bf-dcf0-4033-b324-522180afe369",
   "metadata": {},
   "source": [
    "## Vector Normalization\n",
    "\\begin{align}\n",
    "    \\hat{u'} &= \\frac{1}{\\lVert u \\rVert}u = \\frac{u}{\\lVert u \\rVert}\n",
    "\\end{align}"
   ]
  },
  {
   "cell_type": "markdown",
   "id": "76bb610d-552e-405a-b6a8-f7aacec5218b",
   "metadata": {},
   "source": [
    "## Euclidean Distance\n",
    "\\begin{align}\n",
    "    d(u, v) &= \\lVert u - v \\rVert \\\\\n",
    "    &= \\sqrt{(u_1-v_1)^2+(u_2-v_2)^2+\\ldots+(u_n-v_n)^2}\n",
    "\\end{align}"
   ]
  },
  {
   "cell_type": "markdown",
   "id": "e534a01f-0ba6-493b-a133-9e03aac6bcb3",
   "metadata": {},
   "source": [
    "## Angle\n",
    "\\begin{align}\n",
    "    \\cos{\\theta} &= \\frac{u \\cdot v}{\\rVert u \\lVert \\rVert v \\lVert}\n",
    "\\end{align}"
   ]
  },
  {
   "cell_type": "markdown",
   "id": "3b4f83c3-5209-42cc-9ca8-571c1621f404",
   "metadata": {},
   "source": [
    "## Projection\n",
    "\\begin{align}\n",
    "    proj(u, v) &= \\frac{u \\cdot v}{v \\cdot v}v = \\frac{u \\cdot v}{\\lVert v \\rVert ^2}v\n",
    "\\end{align}"
   ]
  },
  {
   "cell_type": "markdown",
   "id": "df23d96f-6a1b-46fe-b4dd-b6095ad8fe03",
   "metadata": {},
   "source": [
    "## Located Vectors\n",
    "\\begin{gather}\n",
    "    \\overrightarrow{AB} \\\\\n",
    "\\end{gather}\n",
    "## Vector of Located Vectors\n",
    "\\begin{align}\n",
    "    u&=B-A\\\\\n",
    "    &= [ b_1 - a_1, \\ldots, b_n - a_n ]\n",
    "\\end{align}"
   ]
  },
  {
   "cell_type": "markdown",
   "id": "d660a318-85db-4e4d-9056-b740343439ef",
   "metadata": {},
   "source": [
    "## Hyperplanes\n",
    "\n",
    "$H \\in R^n$\n",
    "\n",
    "$H = (x_1, \\ldots, x_n)$\n",
    "\n",
    "$u = [a_1, \\ldots, a_n]$\n",
    "\n",
    "$a_1x_1+a_2x_2+\\ldots+a_nx_n=b$"
   ]
  },
  {
   "cell_type": "markdown",
   "id": "b55088f7-06f7-424e-9d99-3410713e2a59",
   "metadata": {},
   "source": [
    "# Chapter 3"
   ]
  },
  {
   "cell_type": "markdown",
   "id": "8ac1982d-b820-4494-8292-c9a4794b1c14",
   "metadata": {},
   "source": [
    "## Matrices\n",
    "\n",
    "\\begin{align}\n",
    "    A &= \\begin{bmatrix}\n",
    "        a_{11} \\ a_{12} \\ a_{13} \\ \\ldots \\ a_{1j} \\\\\n",
    "        a_{21} \\ a_{22} \\ a_{23} \\ \\ldots \\ a_{2j} \\\\\n",
    "        a_{31} \\ a_{32} \\ a_{33} \\ \\ldots \\ a_{3j} \\\\\n",
    "        \\vdots \\\\\n",
    "        a_{i1} \\ a_{i2} \\ a_{i3} \\ \\ldots \\ a_{ij} \\\\\n",
    "    \\end{bmatrix}\n",
    "\\end{align}\n",
    "\n",
    "\\begin{align}\n",
    "    \\textbf{m} x \\textbf{n}\n",
    "\\end{align}"
   ]
  }
 ],
 "metadata": {
  "kernelspec": {
   "display_name": "Python 3 (ipykernel)",
   "language": "python",
   "name": "python3"
  },
  "language_info": {
   "codemirror_mode": {
    "name": "ipython",
    "version": 3
   },
   "file_extension": ".py",
   "mimetype": "text/x-python",
   "name": "python",
   "nbconvert_exporter": "python",
   "pygments_lexer": "ipython3",
   "version": "3.11.4"
  }
 },
 "nbformat": 4,
 "nbformat_minor": 5
}
