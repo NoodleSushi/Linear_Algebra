{
  "metadata": {
    "kernelspec": {
      "name": "python",
      "display_name": "Python (Pyodide)",
      "language": "python"
    },
    "language_info": {
      "codemirror_mode": {
        "name": "python",
        "version": 3
      },
      "file_extension": ".py",
      "mimetype": "text/x-python",
      "name": "python",
      "nbconvert_exporter": "python",
      "pygments_lexer": "ipython3",
      "version": "3.8"
    }
  },
  "nbformat_minor": 5,
  "nbformat": 4,
  "cells": [
    {
      "cell_type": "markdown",
      "source": "- $\\textbf{u} = [1,2,3]^{T}$\n- $\\textbf{v} = [5,6,2]^{T}$",
      "metadata": {},
      "id": "383ca63d-d00d-4baa-a18c-ab5c8be3f642"
    },
    {
      "cell_type": "code",
      "source": "import numpy as np\n\ndef pr(str, x = \"\"):\n    print((str + \":\").ljust(10, \" \"), x)\n\nu = np.array([1, 2, 3])\nv = np.array([5, 6, 2])\npr(\"u\", u)\npr(\"v\", v)",
      "metadata": {
        "trusted": true
      },
      "execution_count": 8,
      "outputs": [
        {
          "name": "stdout",
          "text": "u:         [1 2 3]\nv:         [5 6 2]\n",
          "output_type": "stream"
        }
      ],
      "id": "d9298bcc-de28-4fc5-b320-4867c2485a4a"
    },
    {
      "cell_type": "markdown",
      "source": "## Vector Addition\n---\n- $\\textbf{u} = [1,2,3]^{T}$\n- $\\textbf{v} = [5,6,2]^{T}$\n\\begin{align}\n    \\textbf{u}+\\textbf{v} &= \\begin{bmatrix}\n        \\textbf{u}_{1}+\\textbf{v}_{1} \\\\\n        \\textbf{u}_{2}+\\textbf{v}_{2} \\\\\n        \\textbf{u}_{3}+\\textbf{v}_{3}\n    \\end{bmatrix}= \\begin{bmatrix}\n        1+5 \\\\\n        2+6 \\\\\n        3+2\n    \\end{bmatrix}= \\begin{bmatrix}\n        6 \\\\\n        8 \\\\\n        5\n    \\end{bmatrix}\n\\end{align}",
      "metadata": {
        "tags": [],
        "jp-MarkdownHeadingCollapsed": true
      },
      "id": "9d0d8767-25fa-4948-bf1f-ac7f321edf21"
    },
    {
      "cell_type": "code",
      "source": "pr(\"u+v\", u + v)",
      "metadata": {
        "trusted": true
      },
      "execution_count": 2,
      "outputs": [
        {
          "name": "stdout",
          "text": "u+v:       [6 8 5]\n",
          "output_type": "stream"
        }
      ],
      "id": "d181bccc-94c1-4928-a089-7b51dd6e7041"
    },
    {
      "cell_type": "markdown",
      "source": "## Scalar Multiplication\n---\n- $\\textbf{u} = [1,2,3]^{T}$\n- $\\textbf{k} = 3$\n\n\\begin{align}\n    k \\cdotp \\textbf{u} = 3 \\cdotp \\textbf{u} &= \\begin{bmatrix}\n       3 \\cdotp 1 \\\\\n       3 \\cdotp 2 \\\\\n       3 \\cdotp 3\n     \\end{bmatrix}= \\begin{bmatrix}\n       3 \\\\\n       6 \\\\\n       9\n     \\end{bmatrix}\n\\end{align}",
      "metadata": {
        "jp-MarkdownHeadingCollapsed": true,
        "tags": []
      },
      "id": "1e224b12-ea8c-49ff-9ef8-593f6ff238d0"
    },
    {
      "cell_type": "code",
      "source": "k = 3\npr(\"k\", k)\npr(\"k*u\", k*u)",
      "metadata": {
        "trusted": true
      },
      "execution_count": 3,
      "outputs": [
        {
          "name": "stdout",
          "text": "k:         3\nk*u:       [3 6 9]\n",
          "output_type": "stream"
        }
      ],
      "id": "6d3d0f55-04b6-4c8e-ac36-21ad1935ef94"
    },
    {
      "cell_type": "markdown",
      "source": "## Dot Products\n---\n- $\\textbf{u} = [1,2,3]^{T}$\n- $\\textbf{v} = [5,6,2]^{T}$\n\n\\begin{align*}\n    \\mathbf{u} \\cdot \\mathbf{v} &= \\mathbf{u}_1 \\cdot \\mathbf{v}_1 + \\mathbf{u}_2 \\cdot \\mathbf{v}_2 + \\mathbf{u}_3 \\cdot \\mathbf{v}_3\\\\\n    &= 1 \\cdot 5 + 2 \\cdot 6 + 3 \\cdot 2 \\\\\n    &= 5 + 12 + 6 \\\\\n    &= 23\n\\end{align*}",
      "metadata": {
        "tags": []
      },
      "id": "7f4e5f65-7db2-4671-a5fd-43899df0bc63"
    },
    {
      "cell_type": "code",
      "source": "pr(\"u.v\", u.dot(v))",
      "metadata": {
        "trusted": true
      },
      "execution_count": 4,
      "outputs": [
        {
          "name": "stdout",
          "text": "u.v:       23\n",
          "output_type": "stream"
        }
      ],
      "id": "52202120-48f4-4c48-b0de-c530c075a179"
    },
    {
      "cell_type": "markdown",
      "source": "## Vector Norm\n---\n- $\\textbf{u} = [1,2,3]^{T}$\n\\begin{align}\n    ||u|| &= \\sqrt{u \\cdot u}\\\\\n    &= \\sqrt{u_{1}^{2}+u_{2}^{2}+u_{3}^{2}}\\\\\n    &= \\sqrt{1^{2}+2^{2}+3^{2}}\\\\\n    &= \\sqrt{1+4+9}\\\\\n    &= \\sqrt{14}\\\\\n    \\\\\n    \\textbf{u'} &= \\frac{1}{||u||}u = \\frac{u}{||u||}\\\\\n    \\\\\n    ||u'|| &= 1\n\\end{align}",
      "metadata": {
        "tags": []
      },
      "id": "c1f603cb-85bb-41fd-84f5-f3ab07445e6e"
    },
    {
      "cell_type": "code",
      "source": "assert np.linalg.norm(u) == np.sqrt(u.dot(u))\nnorm = lambda x: np.linalg.norm(x)\nulen = norm(u)\npr(\"||u||\", norm(u))\npr(\"u/||u||\", u/norm(u))\npr(\"|| u/||u|| ||\", norm(u/norm(u)))",
      "metadata": {
        "trusted": true
      },
      "execution_count": 5,
      "outputs": [
        {
          "name": "stdout",
          "text": "||u||:     3.7416573867739413\nu/||u||:   [0.26726124 0.53452248 0.80178373]\n|| u/||u|| ||: 1.0\n",
          "output_type": "stream"
        }
      ],
      "id": "3f5d49c6-fe40-415a-a00d-62797393bdc4"
    },
    {
      "cell_type": "markdown",
      "source": "## Euclidean Distance\n---\n- $\\textbf{u} = [1,2,3]^{T}$\n- $\\textbf{v} = [5,6,2]^{T}$\n\n\\begin{align}\n    d(u, v) &= ||u - v||\\\\\n    &= \\sqrt{(u_1 - v_1)^2+(u_2 - v_2)^2+(u_3 - v_3)^2}\\\\\n    &= \\sqrt{(1-5)^2+(2-6)^2+(3-2)^2}\\\\\n    &= \\sqrt{16+16+1}\\\\\n    &= \\sqrt{33}\n\\end{align}",
      "metadata": {},
      "id": "dd2aaea2-6d13-4f84-ab6b-03d1f86f6a67"
    },
    {
      "cell_type": "code",
      "source": "pr(\"d(u,v)\", norm(u-v))",
      "metadata": {
        "trusted": true
      },
      "execution_count": 6,
      "outputs": [
        {
          "name": "stdout",
          "text": "d(u,v):    5.744562646538029\n",
          "output_type": "stream"
        }
      ],
      "id": "4324d330-7485-4435-99ae-ebc1f9b33813"
    },
    {
      "cell_type": "markdown",
      "source": "## Angle\n---\n\\begin{align}\n    cos{0heta\n\\end{align}",
      "metadata": {},
      "id": "a8880606-5067-4997-bce5-2690bdb2fb85"
    },
    {
      "cell_type": "code",
      "source": "pr(\"angle\", u.dot(v) / (norm(u)*norm(v)))",
      "metadata": {
        "trusted": true
      },
      "execution_count": 10,
      "outputs": [
        {
          "name": "stdout",
          "text": "angle:     0.7624425757515654\n",
          "output_type": "stream"
        }
      ],
      "id": "3f27281d-98ec-4415-b622-0d1615006933"
    },
    {
      "cell_type": "markdown",
      "source": "## Projection\n---\n\\begin{align}\n    proj(u,v) = \\frac{u \\cdot v}{v \\cdot v}v = \\frac{u \\cdot v}{||v||^2}v\n\\end{align}",
      "metadata": {},
      "id": "21d8325d-6de1-40e6-985a-fb25b36154ed"
    },
    {
      "cell_type": "code",
      "source": "pr(\"proj(u,v)\", u.dot(v)*v / (norm(v)**2))",
      "metadata": {
        "trusted": true
      },
      "execution_count": 9,
      "outputs": [
        {
          "name": "stdout",
          "text": "proj(u,v): [1.76923077 2.12307692 0.70769231]\n",
          "output_type": "stream"
        }
      ],
      "id": "8961b74d-2fb7-4b65-a159-6247a3e8d75c"
    }
  ]
}