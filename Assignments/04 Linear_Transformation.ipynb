{
 "cells": [
  {
   "cell_type": "code",
   "execution_count": 6,
   "id": "0e834137-0b95-4edf-bc3b-625b78b037b9",
   "metadata": {},
   "outputs": [
    {
     "name": "stdout",
     "output_type": "stream",
     "text": [
      "Randomly Generated Matrix:\n",
      "[[0.19047426 0.82164694]\n",
      " [0.13690441 0.7034274 ]]\n",
      "\n",
      "Det = 0.021497726579782384\n",
      "\n",
      "Eigenvalues:\n",
      "[0.02473368 0.86916798]\n",
      "\n",
      "Eigenvectors:\n",
      "[[-0.98025557 -0.77098852]\n",
      " [ 0.19773471 -0.63684904]]\n",
      "\n"
     ]
    }
   ],
   "source": [
    "import numpy as np\n",
    "\n",
    "# 1) function for finding the determinant of a matrix\n",
    "def det(matrix):\n",
    "\n",
    "    if len(matrix.shape) != 2 or matrix.shape[0] != matrix.shape[1]:\n",
    "        raise ValueError(\"Matrix must be square.\")\n",
    "\n",
    "    if matrix.shape[0] == 1:\n",
    "        return matrix[0][0]\n",
    "\n",
    "    det_value = 0\n",
    "\n",
    "    for col in range(matrix.shape[0]):\n",
    "        cofactor = matrix[0][col] * det(\n",
    "            np.delete(np.delete(matrix, 0, 0), col, 1))\n",
    "        det_value += (-1) ** col * cofactor\n",
    "\n",
    "    return det_value\n",
    "\n",
    "# 2) function for finding the eigenvalues & eigenvectors\n",
    "def eigen(matrix):\n",
    "\n",
    "    if len(matrix.shape) != 2 or matrix.shape[0] != matrix.shape[1]:\n",
    "        raise ValueError(\"Matrix must be square.\")\n",
    "\n",
    "    eigenvalues, eigenvectors = np.linalg.eig(matrix)\n",
    "\n",
    "    return eigenvalues, eigenvectors\n",
    "\n",
    "# 3) function tests with a randomly generated nxn matrix\n",
    "n = 2\n",
    "random_matrix = np.random.rand(n, n)\n",
    "\n",
    "det_value = det(random_matrix)\n",
    "eigenvalues, eigenvectors = eigen(random_matrix)\n",
    "\n",
    "print(f\"Randomly Generated Matrix:\\n{random_matrix}\\n\")\n",
    "print(f\"Det = {det_value}\\n\")\n",
    "print(f\"Eigenvalues:\\n{eigenvalues}\\n\")\n",
    "print(f\"Eigenvectors:\\n{eigenvectors}\\n\")\n"
   ]
  }
 ],
 "metadata": {
  "kernelspec": {
   "display_name": "Python 3 (ipykernel)",
   "language": "python",
   "name": "python3"
  },
  "language_info": {
   "codemirror_mode": {
    "name": "ipython",
    "version": 3
   },
   "file_extension": ".py",
   "mimetype": "text/x-python",
   "name": "python",
   "nbconvert_exporter": "python",
   "pygments_lexer": "ipython3",
   "version": "3.12.0"
  }
 },
 "nbformat": 4,
 "nbformat_minor": 5
}
