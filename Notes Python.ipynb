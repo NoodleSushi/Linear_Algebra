{
 "cells": [
  {
   "cell_type": "code",
   "execution_count": 20,
   "id": "ef627c10-77c0-4c43-8a98-84c977154bab",
   "metadata": {},
   "outputs": [
    {
     "name": "stdout",
     "output_type": "stream",
     "text": [
      "u:         [1 2 3]\n",
      "v:         [5 6 2]\n",
      "u+v:       [6 8 5]\n",
      "k*u:       [3 6 9]\n",
      "u.v:       23\n",
      "ǁuǁ:       3.7416573867739413\n",
      "u/ǁuǁ:     [0.26726124 0.53452248 0.80178373]\n",
      "ǁu/ǁuǁǁ:   1.0\n",
      "d(u,v):    5.744562646538029\n",
      "angle:     0.7624425757515654\n",
      "proj(u,v): [1.76923077 2.12307692 0.70769231]\n"
     ]
    }
   ],
   "source": [
    "import numpy as np\n",
    "\n",
    "def pr(str, x = \"\"):\n",
    "    print((str + \":\").ljust(10, \" \"), x)\n",
    "\n",
    "def norm(x):\n",
    "    return np.linalg.norm(x)\n",
    "\n",
    "k = 3\n",
    "u = np.array([1, 2, 3])\n",
    "v = np.array([5, 6, 2])\n",
    "pr(\"u\", u)\n",
    "pr(\"v\", v)\n",
    "pr(\"u+v\", u+v)\n",
    "pr(\"k*u\", k*u)\n",
    "pr(\"u.v\", u.dot(v))\n",
    "pr(\"ǁuǁ\", norm(u))\n",
    "pr(\"u/ǁuǁ\", u/norm(u))\n",
    "pr(\"ǁu/ǁuǁǁ\", norm((u/norm(u))))\n",
    "pr(\"d(u,v)\", norm(u-v))\n",
    "pr(\"angle\", u.dot(v) / (norm(u)*norm(v)))\n",
    "pr(\"proj(u,v)\", u.dot(v)*v / (norm(v)**2))\n"
   ]
  }
 ],
 "metadata": {
  "kernelspec": {
   "display_name": "Python 3 (ipykernel)",
   "language": "python",
   "name": "python3"
  },
  "language_info": {
   "codemirror_mode": {
    "name": "ipython",
    "version": 3
   },
   "file_extension": ".py",
   "mimetype": "text/x-python",
   "name": "python",
   "nbconvert_exporter": "python",
   "pygments_lexer": "ipython3",
   "version": "3.11.4"
  }
 },
 "nbformat": 4,
 "nbformat_minor": 5
}
